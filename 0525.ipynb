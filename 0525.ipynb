{
  "nbformat": 4,
  "nbformat_minor": 0,
  "metadata": {
    "colab": {
      "name": "0525.ipynb",
      "provenance": [],
      "authorship_tag": "ABX9TyNVDiSgezAacKrO3buV1neg",
      "include_colab_link": true
    },
    "kernelspec": {
      "name": "python3",
      "display_name": "Python 3"
    },
    "language_info": {
      "name": "python"
    }
  },
  "cells": [
    {
      "cell_type": "markdown",
      "metadata": {
        "id": "view-in-github",
        "colab_type": "text"
      },
      "source": [
        "<a href=\"https://colab.research.google.com/github/cintin/Introduction-to-Computers/blob/main/0525.ipynb\" target=\"_parent\"><img src=\"https://colab.research.google.com/assets/colab-badge.svg\" alt=\"Open In Colab\"/></a>"
      ]
    },
    {
      "cell_type": "code",
      "execution_count": 1,
      "metadata": {
        "colab": {
          "base_uri": "https://localhost:8080/"
        },
        "id": "Ug3U8lzRg7P3",
        "outputId": "8067b407-7a18-4037-9d3f-13a51147c508"
      },
      "outputs": [
        {
          "output_type": "stream",
          "name": "stdout",
          "text": [
            "test\n"
          ]
        }
      ],
      "source": [
        "print(\"test\")"
      ]
    },
    {
      "cell_type": "code",
      "source": [
        "sum = 0\n",
        "test = int(input(\"請輸入一個正整數:\"))\n",
        "for n in range(1,test+1):\n",
        "    sum = sum+n\n",
        "print(\"1到\",test,\"的整數和\",sum)"
      ],
      "metadata": {
        "colab": {
          "base_uri": "https://localhost:8080/"
        },
        "id": "L4S7OWu1kcxu",
        "outputId": "45122ec1-a588-40dc-c1b8-a32c6b1164cd"
      },
      "execution_count": 2,
      "outputs": [
        {
          "output_type": "stream",
          "name": "stdout",
          "text": [
            "請輸入一個正整數:50\n",
            "1到 50 的整數和 1275\n"
          ]
        }
      ]
    },
    {
      "cell_type": "code",
      "source": [
        "sum = 0\n",
        "test = int(input(\"請輸入一個正整數:\"))\n",
        "for m in range(1,test+1):\n",
        "    sum = sum+m\n",
        "    print(\"1到\"+str(m)+\"的整數和:\",sum)"
      ],
      "metadata": {
        "colab": {
          "base_uri": "https://localhost:8080/"
        },
        "id": "ppy3gIWylWa_",
        "outputId": "5251a78a-75c9-4d20-b5ad-5a7dd5ada0c9"
      },
      "execution_count": 5,
      "outputs": [
        {
          "output_type": "stream",
          "name": "stdout",
          "text": [
            "請輸入一個正整數:50\n",
            "1到1的整數和: 1\n",
            "1到2的整數和: 3\n",
            "1到3的整數和: 6\n",
            "1到4的整數和: 10\n",
            "1到5的整數和: 15\n",
            "1到6的整數和: 21\n",
            "1到7的整數和: 28\n",
            "1到8的整數和: 36\n",
            "1到9的整數和: 45\n",
            "1到10的整數和: 55\n",
            "1到11的整數和: 66\n",
            "1到12的整數和: 78\n",
            "1到13的整數和: 91\n",
            "1到14的整數和: 105\n",
            "1到15的整數和: 120\n",
            "1到16的整數和: 136\n",
            "1到17的整數和: 153\n",
            "1到18的整數和: 171\n",
            "1到19的整數和: 190\n",
            "1到20的整數和: 210\n",
            "1到21的整數和: 231\n",
            "1到22的整數和: 253\n",
            "1到23的整數和: 276\n",
            "1到24的整數和: 300\n",
            "1到25的整數和: 325\n",
            "1到26的整數和: 351\n",
            "1到27的整數和: 378\n",
            "1到28的整數和: 406\n",
            "1到29的整數和: 435\n",
            "1到30的整數和: 465\n",
            "1到31的整數和: 496\n",
            "1到32的整數和: 528\n",
            "1到33的整數和: 561\n",
            "1到34的整數和: 595\n",
            "1到35的整數和: 630\n",
            "1到36的整數和: 666\n",
            "1到37的整數和: 703\n",
            "1到38的整數和: 741\n",
            "1到39的整數和: 780\n",
            "1到40的整數和: 820\n",
            "1到41的整數和: 861\n",
            "1到42的整數和: 903\n",
            "1到43的整數和: 946\n",
            "1到44的整數和: 990\n",
            "1到45的整數和: 1035\n",
            "1到46的整數和: 1081\n",
            "1到47的整數和: 1128\n",
            "1到48的整數和: 1176\n",
            "1到49的整數和: 1225\n",
            "1到50的整數和: 1275\n"
          ]
        }
      ]
    },
    {
      "cell_type": "code",
      "source": [
        "for j in range(1,5):\n",
        "    print(j)\n",
        "    for i in range(1,3):\n",
        "        k = i*j\n",
        "        print(j,\"*\",i,\"=\",k)"
      ],
      "metadata": {
        "colab": {
          "base_uri": "https://localhost:8080/"
        },
        "id": "dmgZu_00lmO6",
        "outputId": "c12636e7-a87d-46fd-f39d-a8bc2bd516eb"
      },
      "execution_count": 6,
      "outputs": [
        {
          "output_type": "stream",
          "name": "stdout",
          "text": [
            "1\n",
            "1 * 1 = 1\n",
            "1 * 2 = 2\n",
            "2\n",
            "2 * 1 = 2\n",
            "2 * 2 = 4\n",
            "3\n",
            "3 * 1 = 3\n",
            "3 * 2 = 6\n",
            "4\n",
            "4 * 1 = 4\n",
            "4 * 2 = 8\n"
          ]
        }
      ]
    },
    {
      "cell_type": "code",
      "source": [
        "for j in range(1,6):\n",
        "    print(j)\n",
        "    for i in range(1,3):\n",
        "        k = i*j\n",
        "        print(j,\"*\",i,\"=\",k)"
      ],
      "metadata": {
        "colab": {
          "base_uri": "https://localhost:8080/"
        },
        "id": "A5jXhXEenbG-",
        "outputId": "020543d0-7831-4958-f6d3-7cefa67097ac"
      },
      "execution_count": 7,
      "outputs": [
        {
          "output_type": "stream",
          "name": "stdout",
          "text": [
            "1\n",
            "1 * 1 = 1\n",
            "1 * 2 = 2\n",
            "2\n",
            "2 * 1 = 2\n",
            "2 * 2 = 4\n",
            "3\n",
            "3 * 1 = 3\n",
            "3 * 2 = 6\n",
            "4\n",
            "4 * 1 = 4\n",
            "4 * 2 = 8\n",
            "5\n",
            "5 * 1 = 5\n",
            "5 * 2 = 10\n"
          ]
        }
      ]
    },
    {
      "cell_type": "code",
      "source": [
        "for i in range(1,5):\n",
        "    if (i==3):\n",
        "        break\n",
        "    print(i, end=\" \")"
      ],
      "metadata": {
        "colab": {
          "base_uri": "https://localhost:8080/"
        },
        "id": "V-KMp5YPobZs",
        "outputId": "3b4941bc-5d1c-4fde-8d8d-02bba55b6ffa"
      },
      "execution_count": 10,
      "outputs": [
        {
          "output_type": "stream",
          "name": "stdout",
          "text": [
            "1 2 "
          ]
        }
      ]
    },
    {
      "cell_type": "code",
      "source": [
        "count = 0 \n",
        "for string in 'hello!':\n",
        "    count+=1\n",
        "    if string =='o':\n",
        "       break\n",
        "    print(string)\n",
        "print(\"迴圈結束\")\n",
        "print(\"迴圈執行了迴圈執行了 %d 次\" %count)"
      ],
      "metadata": {
        "colab": {
          "base_uri": "https://localhost:8080/"
        },
        "id": "sh7_AM5EpjGM",
        "outputId": "3cf34423-0a32-4e70-d1aa-2e9f2939848b"
      },
      "execution_count": 13,
      "outputs": [
        {
          "output_type": "stream",
          "name": "stdout",
          "text": [
            "h\n",
            "e\n",
            "l\n",
            "l\n",
            "迴圈結束\n",
            "迴圈執行了迴圈執行了 5 次\n"
          ]
        }
      ]
    },
    {
      "cell_type": "code",
      "source": [
        "count = 0 \n",
        "for string in '測試看看':\n",
        "    count+=1\n",
        "    if string =='看':\n",
        "       break\n",
        "    print(string)\n",
        "print(\"迴圈結束\")\n",
        "print(\"迴圈執行了迴圈執行了 %d 次\" %count)"
      ],
      "metadata": {
        "colab": {
          "base_uri": "https://localhost:8080/"
        },
        "id": "mI5q7Yr9q8z0",
        "outputId": "f0f97fc6-f293-4a89-9345-168627362eed"
      },
      "execution_count": 15,
      "outputs": [
        {
          "output_type": "stream",
          "name": "stdout",
          "text": [
            "測\n",
            "試\n",
            "迴圈結束\n",
            "迴圈執行了迴圈執行了 3 次\n"
          ]
        }
      ]
    },
    {
      "cell_type": "code",
      "source": [
        "for i in range(2,10):\n",
        "    for j in range(1,10):\n",
        "        print('%d*%d=%2d   ' %(i, j, i*j), end = ' ')\n",
        "    print( )"
      ],
      "metadata": {
        "colab": {
          "base_uri": "https://localhost:8080/"
        },
        "id": "CK2B9imysFuZ",
        "outputId": "4ad9353c-ea7b-42ef-c31b-f67016d2e2e8"
      },
      "execution_count": 31,
      "outputs": [
        {
          "output_type": "stream",
          "name": "stdout",
          "text": [
            "2*1= 2    2*2= 4    2*3= 6    2*4= 8    2*5=10    2*6=12    2*7=14    2*8=16    2*9=18    \n",
            "3*1= 3    3*2= 6    3*3= 9    3*4=12    3*5=15    3*6=18    3*7=21    3*8=24    3*9=27    \n",
            "4*1= 4    4*2= 8    4*3=12    4*4=16    4*5=20    4*6=24    4*7=28    4*8=32    4*9=36    \n",
            "5*1= 5    5*2=10    5*3=15    5*4=20    5*5=25    5*6=30    5*7=35    5*8=40    5*9=45    \n",
            "6*1= 6    6*2=12    6*3=18    6*4=24    6*5=30    6*6=36    6*7=42    6*8=48    6*9=54    \n",
            "7*1= 7    7*2=14    7*3=21    7*4=28    7*5=35    7*6=42    7*7=49    7*8=56    7*9=63    \n",
            "8*1= 8    8*2=16    8*3=24    8*4=32    8*5=40    8*6=48    8*7=56    8*8=64    8*9=72    \n",
            "9*1= 9    9*2=18    9*3=27    9*4=36    9*5=45    9*6=54    9*7=63    9*8=72    9*9=81    \n"
          ]
        }
      ]
    },
    {
      "cell_type": "code",
      "source": [
        "a = int(input(\"請輸入a的值:\"))\n",
        "b = int(input(\"請輸入b的值:\"))\n",
        "min = 1\n",
        "for i in range (1, a*b+1):\n",
        "    if i%a==0 and i%b==0 :\n",
        "       min = i\n",
        "       break\n",
        "print(a, '和' ,b, '的最小公倍數=' ,min)"
      ],
      "metadata": {
        "colab": {
          "base_uri": "https://localhost:8080/"
        },
        "id": "4sFXVXtq0mzn",
        "outputId": "0e1a16a5-f130-4cd2-c885-ca833f0433ba"
      },
      "execution_count": 42,
      "outputs": [
        {
          "output_type": "stream",
          "name": "stdout",
          "text": [
            "請輸入a的值:4\n",
            "請輸入b的值:6\n",
            "4 和 6 的最小公倍數= 12\n"
          ]
        }
      ]
    },
    {
      "cell_type": "code",
      "source": [
        "a = int(input(\"請輸入a的值:\"))\n",
        "b = int(input(\"請輸入b的值:\"))\n",
        "Min = 1\n",
        "for i in range (1, a*b+1):\n",
        "    if i%a==0 and i%b==0 :\n",
        "       min = i\n",
        "       break\n",
        "print(a, '和' ,b, '的最小公倍數=' ,min)"
      ],
      "metadata": {
        "colab": {
          "base_uri": "https://localhost:8080/"
        },
        "id": "-UUrIkLa22E5",
        "outputId": "86e69c36-476a-4ef9-e790-2eea13511e7d"
      },
      "execution_count": 44,
      "outputs": [
        {
          "output_type": "stream",
          "name": "stdout",
          "text": [
            "請輸入a的值:9\n",
            "請輸入b的值:15\n",
            "9 和 15 的最小公倍數= 45\n"
          ]
        }
      ]
    },
    {
      "cell_type": "code",
      "source": [
        "number = int(input(\"請輸入正整數:\"))\n",
        "for i in range (1,number+1):\n",
        "    if(i %5 ==0):\n",
        "       continue\n",
        "    print(i, end = \" \")"
      ],
      "metadata": {
        "colab": {
          "base_uri": "https://localhost:8080/"
        },
        "id": "auP9nlfw3RJh",
        "outputId": "9b0c3b93-4f72-4b71-fec9-7ea27ad3919a"
      },
      "execution_count": 61,
      "outputs": [
        {
          "output_type": "stream",
          "name": "stdout",
          "text": [
            "請輸入正整數:12\n",
            "1 2 3 4 6 7 8 9 11 12 "
          ]
        }
      ]
    },
    {
      "cell_type": "code",
      "source": [
        "number = int(input(\"請輸入正整數:\"))\n",
        "for i in range (1,number+1):\n",
        "    if(i %5 ==0):\n",
        "       continue\n",
        "    print(i, end = \" \")"
      ],
      "metadata": {
        "colab": {
          "base_uri": "https://localhost:8080/"
        },
        "id": "fzJUxh1b542_",
        "outputId": "08fea2e5-af88-481d-cc37-ca91727d72b9"
      },
      "execution_count": 62,
      "outputs": [
        {
          "output_type": "stream",
          "name": "stdout",
          "text": [
            "請輸入正整數:21\n",
            "1 2 3 4 6 7 8 9 11 12 13 14 16 17 18 19 21 "
          ]
        }
      ]
    },
    {
      "cell_type": "code",
      "source": [
        ""
      ],
      "metadata": {
        "id": "Yl7p-pTQ7fnm"
      },
      "execution_count": null,
      "outputs": []
    }
  ]
}