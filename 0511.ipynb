{
  "nbformat": 4,
  "nbformat_minor": 0,
  "metadata": {
    "colab": {
      "name": "0511.ipynb",
      "provenance": [],
      "authorship_tag": "ABX9TyPV8sn2tfE9Mvg5kCX/Q0rX",
      "include_colab_link": true
    },
    "kernelspec": {
      "name": "python3",
      "display_name": "Python 3"
    },
    "language_info": {
      "name": "python"
    }
  },
  "cells": [
    {
      "cell_type": "markdown",
      "metadata": {
        "id": "view-in-github",
        "colab_type": "text"
      },
      "source": [
        "<a href=\"https://colab.research.google.com/github/cintin/Introduction-to-Computers/blob/main/0511.ipynb\" target=\"_parent\"><img src=\"https://colab.research.google.com/assets/colab-badge.svg\" alt=\"Open In Colab\"/></a>"
      ]
    },
    {
      "cell_type": "code",
      "execution_count": 1,
      "metadata": {
        "colab": {
          "base_uri": "https://localhost:8080/"
        },
        "id": "eBZtMTnNg7Qw",
        "outputId": "1fa5375c-5fe2-44ba-92f5-6a23902e65d2"
      },
      "outputs": [
        {
          "output_type": "stream",
          "name": "stdout",
          "text": [
            "請輸入你的體溫37.5\n",
            "體溫過高！\n"
          ]
        }
      ],
      "source": [
        "temp = float(input(\"請輸入你的體溫\"))\n",
        "if temp >= 37.5:\n",
        "   print(\"體溫過高！\")\n",
        "elif temp >= 37 and temp < 37.4:\n",
        "   print(\"體溫略高！\")\n",
        "elif temp >= 34 and temp < 36.9:\n",
        "   print(\"體溫正常！\")\n",
        "else:\n",
        "   print(\"體溫異常，請重新量測！\")"
      ]
    },
    {
      "cell_type": "code",
      "source": [
        "money = int(input(\"請輸入購物金額:\"))\n",
        "if (money >=10000):\n",
        "    if(money >= 100000):\n",
        "       print(\"八折\", money * 0.8, end = \"元\\n\")\n",
        "    elif(money >= 50000):\n",
        "       print(\"八五折\", money * 0.85, end = \"元\\n\" )\n",
        "    elif(money >= 30000):\n",
        "       print(\"九折\", money *0.9, end = \"元\\n\")\n",
        "    else:\n",
        "      print(\"九五折\", money * 0.95, end = \"元\\n\")\n",
        "else:\n",
        "    print(\"沒打折\", money, end = \"元\\n\")"
      ],
      "metadata": {
        "colab": {
          "base_uri": "https://localhost:8080/"
        },
        "id": "9i455uWJkmiG",
        "outputId": "224a0f8e-3bbd-49cb-c6ad-2185fb906b75"
      },
      "execution_count": 3,
      "outputs": [
        {
          "output_type": "stream",
          "name": "stdout",
          "text": [
            "請輸入購物金額:80000\n",
            "八五折 68000.0元\n"
          ]
        }
      ]
    },
    {
      "cell_type": "code",
      "source": [
        "成績 = int(input(\"請輸入成績:\"))\n",
        "if(成績 >= 90):\n",
        "    print(\"A\")\n",
        "elif(成績 >= 80 and 成績 <= 89):\n",
        "    print(\"B\")\n",
        "elif(成績 >= 70 and 成績 <= 79):\n",
        "    print(\"C\") \n",
        "elif(成績 >= 60 and 成績 <= 69):\n",
        "    print(\"D\")\n",
        "else:\n",
        "    print(\"E\")"
      ],
      "metadata": {
        "colab": {
          "base_uri": "https://localhost:8080/"
        },
        "id": "cIEGA8AmoYw1",
        "outputId": "9d5155c0-21da-4fde-dceb-1bcd4308b088"
      },
      "execution_count": 5,
      "outputs": [
        {
          "output_type": "stream",
          "name": "stdout",
          "text": [
            "請輸入成績:88\n",
            "B\n"
          ]
        }
      ]
    },
    {
      "cell_type": "code",
      "source": [
        "season = int(input(\"請輸入月份:\"))\n",
        "if(season == 3 or season == 4 or season == 5):\n",
        "   print(season,\"月是春天！\")\n",
        "elif(season == 6 or season == 7 or season == 8):\n",
        "   print(season,\"月是夏天！\")\n",
        "elif(season == 9 or season == 10 or season == 11):\n",
        "   print(season,\"月是秋天！\")\n",
        "elif(season == 12 or season == 1 or season == 2):\n",
        "   print(season,\"月是冬天！\")\n",
        "else:\n",
        "   print(\"月份不在範圍內！\")"
      ],
      "metadata": {
        "colab": {
          "base_uri": "https://localhost:8080/"
        },
        "id": "b8D1eP17t0Rd",
        "outputId": "92e23233-980a-4f27-a51f-7a34883b8908"
      },
      "execution_count": 9,
      "outputs": [
        {
          "output_type": "stream",
          "name": "stdout",
          "text": [
            "請輸入月份:1\n",
            "1 月是冬天！\n"
          ]
        }
      ]
    },
    {
      "cell_type": "code",
      "source": [
        "money = int(input(\"請輸入今年收入淨額:\"))\n",
        "if(money >= 2000000):\n",
        "   print(\"付稅金額:\", money * 0.3, end = \"元\\n\")\n",
        "elif(money >= 1000000):\n",
        "   print(\"付稅金額:\", money * 0.21, end = \"元\\n\")\n",
        "elif(money >= 600000):\n",
        "   print(\"付稅金額:\", money * 0.13, end = \"元\\n\")\n",
        "elif(money >= 300000):\n",
        "   print(\"付稅金額:\", money * 0.06, end = \"元\\n\")\n",
        "else:\n",
        "   print(\"付稅金額:\", money * 0, end = \"元\\n\")"
      ],
      "metadata": {
        "colab": {
          "base_uri": "https://localhost:8080/"
        },
        "id": "GvsPrZ_Vvtor",
        "outputId": "ac9fd6f3-ee62-4d84-b410-cdd8b543df74"
      },
      "execution_count": 11,
      "outputs": [
        {
          "output_type": "stream",
          "name": "stdout",
          "text": [
            "請輸入今年收入淨額:2000000\n",
            "付稅金額: 600000.0元\n"
          ]
        }
      ]
    },
    {
      "cell_type": "code",
      "source": [
        ""
      ],
      "metadata": {
        "id": "rKX6jIEG0HxI"
      },
      "execution_count": null,
      "outputs": []
    }
  ]
}