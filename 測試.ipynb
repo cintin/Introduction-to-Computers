{
  "nbformat": 4,
  "nbformat_minor": 0,
  "metadata": {
    "colab": {
      "name": "測試.ipynb",
      "provenance": [],
      "authorship_tag": "ABX9TyN5yOeCmLzvPO8phKOwN4Vs",
      "include_colab_link": true
    },
    "kernelspec": {
      "name": "python3",
      "display_name": "Python 3"
    },
    "language_info": {
      "name": "python"
    }
  },
  "cells": [
    {
      "cell_type": "markdown",
      "metadata": {
        "id": "view-in-github",
        "colab_type": "text"
      },
      "source": [
        "<a href=\"https://colab.research.google.com/github/cintin/Introduction-to-Computers/blob/main/%E6%B8%AC%E8%A9%A6.ipynb\" target=\"_parent\"><img src=\"https://colab.research.google.com/assets/colab-badge.svg\" alt=\"Open In Colab\"/></a>"
      ]
    },
    {
      "cell_type": "code",
      "source": [
        "print('hey','hi','hello',sep='_')"
      ],
      "metadata": {
        "colab": {
          "base_uri": "https://localhost:8080/"
        },
        "id": "Isz5m6Y3crpV",
        "outputId": "44db66a8-fb03-459e-f4aa-f93e902fefa4"
      },
      "execution_count": 17,
      "outputs": [
        {
          "output_type": "stream",
          "name": "stdout",
          "text": [
            "hey_hi_hello\n"
          ]
        }
      ]
    },
    {
      "cell_type": "code",
      "source": [
        "print('hey','hi','hello',sep='\\n')"
      ],
      "metadata": {
        "colab": {
          "base_uri": "https://localhost:8080/"
        },
        "id": "WYirpbs5cvqJ",
        "outputId": "6d09a0df-f8d6-46b1-fb78-f60bef72837a"
      },
      "execution_count": 7,
      "outputs": [
        {
          "output_type": "stream",
          "name": "stdout",
          "text": [
            "hey\n",
            "hi\n",
            "hello\n"
          ]
        }
      ]
    },
    {
      "cell_type": "code",
      "source": [
        "print('早安','同學好','打起精神來',sep='_',end='!!!')"
      ],
      "metadata": {
        "colab": {
          "base_uri": "https://localhost:8080/"
        },
        "id": "3UZwz1Vbc7ya",
        "outputId": "fe218633-ee10-4e59-cfbc-64dbd3b1feb1"
      },
      "execution_count": 19,
      "outputs": [
        {
          "output_type": "stream",
          "name": "stdout",
          "text": [
            "早安_同學好_打起精神來!!!"
          ]
        }
      ]
    },
    {
      "cell_type": "code",
      "source": [
        "print('早上好','平安順心','健康如意',sep=',',end='^^')"
      ],
      "metadata": {
        "colab": {
          "base_uri": "https://localhost:8080/"
        },
        "id": "7yan4Oqxc_eS",
        "outputId": "989fb723-6453-4909-a946-f1f4c7a0901f"
      },
      "execution_count": 9,
      "outputs": [
        {
          "output_type": "stream",
          "name": "stdout",
          "text": [
            "早上好,平安順心,健康如意^^"
          ]
        }
      ]
    },
    {
      "cell_type": "code",
      "source": [
        "test3 = int(input('請輸入月份'))\n",
        "test4 = int(input('請輸入日期'))\n",
        "print('今天是',test3,'月',test4,'號',sep = '')"
      ],
      "metadata": {
        "colab": {
          "base_uri": "https://localhost:8080/"
        },
        "id": "S0n4pg0SdHtX",
        "outputId": "6483932c-936d-49ab-cda7-33a2a46c2620"
      },
      "execution_count": 11,
      "outputs": [
        {
          "output_type": "stream",
          "name": "stdout",
          "text": [
            "請輸入月份1\n",
            "請輸入日期18\n",
            "今天是1月18號\n"
          ]
        }
      ]
    },
    {
      "cell_type": "code",
      "source": [
        "國文 = int(input('請輸入國文成績：'))\n",
        "英文 = int(input('請輸入英文成績：'))\n",
        "數學 = int(input('請輸入數學成績：'))\n",
        "print('你的成績總分為:',國文+英文+數學,sep = '\\n',end = '分')"
      ],
      "metadata": {
        "colab": {
          "base_uri": "https://localhost:8080/"
        },
        "id": "W75J4ZAcdUwA",
        "outputId": "16db9307-f270-47c5-912e-0cd12d30a690"
      },
      "execution_count": 12,
      "outputs": [
        {
          "output_type": "stream",
          "name": "stdout",
          "text": [
            "請輸入國文成績：100\n",
            "請輸入英文成績：100\n",
            "請輸入數學成績：100\n",
            "你的成績總分為:\n",
            "300分"
          ]
        }
      ]
    },
    {
      "cell_type": "code",
      "source": [
        "上底 = int(input('請輸入梯形上底長度：'))\n",
        "下底 = int(input('請輸入梯形下底長度：'))\n",
        "高 = int(input('請輸入梯形的高度：'))\n",
        "面積 = (上底 + 下底) * 高 / 2\n",
        "print('梯形上底長度為：',上底,'梯形下底長度為：',下底,'梯形高度為:',高,'梯形面積為:',面積)"
      ],
      "metadata": {
        "colab": {
          "base_uri": "https://localhost:8080/"
        },
        "id": "z1Pu2S6vdh-m",
        "outputId": "951c71a0-c380-4bf2-cad5-798a0d74190c"
      },
      "execution_count": 13,
      "outputs": [
        {
          "output_type": "stream",
          "name": "stdout",
          "text": [
            "請輸入梯形上底長度：3\n",
            "請輸入梯形下底長度：4\n",
            "請輸入梯形的高度：3\n",
            "梯形上底長度為： 3 梯形下底長度為： 4 梯形高度為: 3 梯形面積為: 10.5\n"
          ]
        }
      ]
    },
    {
      "cell_type": "code",
      "source": [
        "print('梯形上底長度為： %d,梯形下底長度為： %d,梯形高度為： %d,梯形面積為： %d' % (上底,下底,高,面積))\n",
        "print('梯形上底長度為： %d,梯形下底長度為： %d,梯形高度為： %d,梯形面積為： %f' % (上底,下底,高,面積))\n",
        "print('梯形上底長度為： %d,梯形下底長度為： %d,梯形高度為： %d,梯形面積為： %0.1f' % (上底,下底,高,面積))\n"
      ],
      "metadata": {
        "colab": {
          "base_uri": "https://localhost:8080/"
        },
        "id": "xxClhVVPdoSI",
        "outputId": "e71cfbec-746c-44c0-e13b-197e2830a53e"
      },
      "execution_count": 14,
      "outputs": [
        {
          "output_type": "stream",
          "name": "stdout",
          "text": [
            "梯形上底長度為： 3,梯形下底長度為： 4,梯形高度為： 3,梯形面積為： 10\n",
            "梯形上底長度為： 3,梯形下底長度為： 4,梯形高度為： 3,梯形面積為： 10.500000\n",
            "梯形上底長度為： 3,梯形下底長度為： 4,梯形高度為： 3,梯形面積為： 10.5\n"
          ]
        }
      ]
    },
    {
      "cell_type": "code",
      "source": [
        "身高 = float(input('請輸入您的身高：'))\n",
        "體重 = float(input('請輸入您的體重：'))\n",
        "BMI = 體重 / ((身高 / 100) ** 2)\n",
        "print('身高 %d 公分,體重 %d 公斤,BMI值為 %0.2f' % (身高,體重,BMI))"
      ],
      "metadata": {
        "colab": {
          "base_uri": "https://localhost:8080/"
        },
        "id": "z3KPzmnYdtYC",
        "outputId": "2f7d22fe-2e37-4aee-8bf8-cc9e7f5c3bb5"
      },
      "execution_count": 15,
      "outputs": [
        {
          "output_type": "stream",
          "name": "stdout",
          "text": [
            "請輸入您的身高：153\n",
            "請輸入您的體重：37\n",
            "身高 153 公分,體重 37 公斤,BMI值為 15.81\n"
          ]
        }
      ]
    },
    {
      "cell_type": "code",
      "source": [
        "本金 = int(input('請輸入本金存款金額：'))\n",
        "年利率 = 1.02 ** 6\n",
        "本金 *= 年利率\n",
        "print('6年後存款為：', 本金)\n",
        "\n",
        "本金 = int(input('請輸入本金存款金額：'))\n",
        "年利率 = 1.02 ** 6\n",
        "本金 *= 年利率\n",
        "print('6年後存款為：' + str(本金))"
      ],
      "metadata": {
        "colab": {
          "base_uri": "https://localhost:8080/"
        },
        "id": "b0rHiAOtd8At",
        "outputId": "74e1c5dc-ecbc-433c-98ab-12b22b3b0c5a"
      },
      "execution_count": 21,
      "outputs": [
        {
          "output_type": "stream",
          "name": "stdout",
          "text": [
            "請輸入本金存款金額：1000\n",
            "6年後存款為： 1126.1624192640002\n",
            "請輸入本金存款金額：1000\n",
            "6年後存款為：1126.1624192640002\n"
          ]
        }
      ]
    },
    {
      "cell_type": "code",
      "source": [
        "通關密碼 = input('請輸入密碼')\n",
        "if(通關密碼 == '1234'):\n",
        "    print('歡迎光臨!')\n",
        "\n",
        "通關密碼 = input('請輸入密碼')\n",
        "if(通關密碼 == '1234'):\n",
        "    print('歡迎光臨!')\n",
        "else:\n",
        "    print('密碼錯誤！')"
      ],
      "metadata": {
        "colab": {
          "base_uri": "https://localhost:8080/"
        },
        "id": "Oaw7xxU8ejr9",
        "outputId": "cb8b93db-6da6-4638-9e70-c079542db77f"
      },
      "execution_count": 22,
      "outputs": [
        {
          "output_type": "stream",
          "name": "stdout",
          "text": [
            "請輸入密碼1234\n",
            "歡迎光臨!\n",
            "請輸入密碼0118\n",
            "密碼錯誤！\n"
          ]
        }
      ]
    },
    {
      "cell_type": "code",
      "source": [
        "rain = input(\"今天會下雨嗎？\")\n",
        "if(rain == \"Y\" or rain == \"y\"):\n",
        "    print(\"出門記得帶傘！\")\n",
        "\n",
        "rain = input(\"今天會下雨嗎？\")\n",
        "if(rain == \"Y\" or rain == \"y\"):\n",
        "    print(\"出門記得帶傘！\")\n",
        "else:\n",
        "    print(\"不用帶傘！\")"
      ],
      "metadata": {
        "colab": {
          "base_uri": "https://localhost:8080/"
        },
        "id": "BvOBSWq0evdV",
        "outputId": "b493a032-93f8-4864-8435-0e1c66165e21"
      },
      "execution_count": 23,
      "outputs": [
        {
          "output_type": "stream",
          "name": "stdout",
          "text": [
            "今天會下雨嗎？y\n",
            "出門記得帶傘！\n",
            "今天會下雨嗎？n\n",
            "不用帶傘！\n"
          ]
        }
      ]
    },
    {
      "cell_type": "code",
      "source": [
        "數字 = int(input(\"請輸入正整數\"))\n",
        "if((數字 % 2) == 0):\n",
        "    print(數字 , '為偶數！')\n",
        "else:\n",
        "    print(數字 , '為奇數！')"
      ],
      "metadata": {
        "colab": {
          "base_uri": "https://localhost:8080/"
        },
        "id": "wwKtNJwOe5TX",
        "outputId": "937f6e15-8933-4ff5-e464-c1e4a257ce57"
      },
      "execution_count": 24,
      "outputs": [
        {
          "output_type": "stream",
          "name": "stdout",
          "text": [
            "請輸入正整數18\n",
            "18 為偶數！\n"
          ]
        }
      ]
    },
    {
      "cell_type": "code",
      "source": [
        "temp = float(input(\"請輸入你的體溫\"))\n",
        "if temp >= 37.5:\n",
        "   print(\"體溫過高！\")\n",
        "elif temp >= 37 and temp < 37.4:\n",
        "   print(\"體溫略高！\")\n",
        "elif temp >= 34 and temp < 36.9:\n",
        "   print(\"體溫正常！\")\n",
        "else:\n",
        "   print(\"體溫異常，請重新量測！\")"
      ],
      "metadata": {
        "colab": {
          "base_uri": "https://localhost:8080/"
        },
        "id": "533vi0NyfBxh",
        "outputId": "5a77f608-442a-4915-ad5f-79c58d61d9e8"
      },
      "execution_count": 25,
      "outputs": [
        {
          "output_type": "stream",
          "name": "stdout",
          "text": [
            "請輸入你的體溫37.5\n",
            "體溫過高！\n"
          ]
        }
      ]
    },
    {
      "cell_type": "code",
      "source": [
        "money = int(input(\"請輸入購物金額:\"))\n",
        "if (money >=10000):\n",
        "    if(money >= 100000):\n",
        "       print(\"八折\", money * 0.8, end = \"元\\n\")\n",
        "    elif(money >= 50000):\n",
        "       print(\"八五折\", money * 0.85, end = \"元\\n\" )\n",
        "    elif(money >= 30000):\n",
        "       print(\"九折\", money *0.9, end = \"元\\n\")\n",
        "    else:\n",
        "      print(\"九五折\", money * 0.95, end = \"元\\n\")\n",
        "else:\n",
        "    print(\"沒打折\", money, end = \"元\\n\")"
      ],
      "metadata": {
        "colab": {
          "base_uri": "https://localhost:8080/"
        },
        "id": "9mZFDXKyfTqm",
        "outputId": "ebb019ef-dc97-4786-a83b-091aa7e02085"
      },
      "execution_count": 27,
      "outputs": [
        {
          "output_type": "stream",
          "name": "stdout",
          "text": [
            "請輸入購物金額:80000\n",
            "八五折 68000.0元\n"
          ]
        }
      ]
    },
    {
      "cell_type": "code",
      "source": [
        "j = range(18)\n",
        "print(j)\n",
        "print(list(j))"
      ],
      "metadata": {
        "colab": {
          "base_uri": "https://localhost:8080/"
        },
        "id": "7z2kJu05fq_E",
        "outputId": "9c8dbf04-0cd9-4c41-ba47-3d4089d256e9"
      },
      "execution_count": 29,
      "outputs": [
        {
          "output_type": "stream",
          "name": "stdout",
          "text": [
            "range(0, 18)\n",
            "[0, 1, 2, 3, 4, 5, 6, 7, 8, 9, 10, 11, 12, 13, 14, 15, 16, 17]\n"
          ]
        }
      ]
    },
    {
      "cell_type": "code",
      "source": [
        "c = range(1,8,1)\n",
        "print(list(c))"
      ],
      "metadata": {
        "colab": {
          "base_uri": "https://localhost:8080/"
        },
        "id": "fE-CUNwrf6bj",
        "outputId": "3fa98c84-621e-4042-d3fd-f46c782bf740"
      },
      "execution_count": 36,
      "outputs": [
        {
          "output_type": "stream",
          "name": "stdout",
          "text": [
            "[1, 2, 3, 4, 5, 6, 7]\n"
          ]
        }
      ]
    },
    {
      "cell_type": "code",
      "source": [
        "e = range(8,1,-1)\n",
        "print(list(e))"
      ],
      "metadata": {
        "colab": {
          "base_uri": "https://localhost:8080/"
        },
        "id": "LFE46vIJgZzz",
        "outputId": "06bf5df2-ef42-4ef7-b25e-46f4a0cc27fe"
      },
      "execution_count": 37,
      "outputs": [
        {
          "output_type": "stream",
          "name": "stdout",
          "text": [
            "[8, 7, 6, 5, 4, 3, 2]\n"
          ]
        }
      ]
    },
    {
      "cell_type": "code",
      "source": [
        "sum = 0\n",
        "test = int(input(\"請輸入一個正整數:\"))\n",
        "for n in range(1,test+1):\n",
        "    sum = sum+n\n",
        "print(\"1到\",test,\"的整數和\",sum)"
      ],
      "metadata": {
        "colab": {
          "base_uri": "https://localhost:8080/"
        },
        "id": "Pxe4lM97gklq",
        "outputId": "6b54642c-f34b-41ae-9b49-cf4e92d58d58"
      },
      "execution_count": 38,
      "outputs": [
        {
          "output_type": "stream",
          "name": "stdout",
          "text": [
            "請輸入一個正整數:18\n",
            "1到 18 的整數和 171\n"
          ]
        }
      ]
    },
    {
      "cell_type": "code",
      "source": [
        "sum = 0\n",
        "test = int(input(\"請輸入一個正整數:\"))\n",
        "for m in range(1,test+1):\n",
        "    sum = sum+m\n",
        "    print(\"1到\"+str(m)+\"的整數和:\",sum)"
      ],
      "metadata": {
        "colab": {
          "base_uri": "https://localhost:8080/"
        },
        "id": "UgI95eEJgo22",
        "outputId": "3a99a41e-bde4-4ef7-cc51-24838943fb7d"
      },
      "execution_count": 39,
      "outputs": [
        {
          "output_type": "stream",
          "name": "stdout",
          "text": [
            "請輸入一個正整數:18\n",
            "1到1的整數和: 1\n",
            "1到2的整數和: 3\n",
            "1到3的整數和: 6\n",
            "1到4的整數和: 10\n",
            "1到5的整數和: 15\n",
            "1到6的整數和: 21\n",
            "1到7的整數和: 28\n",
            "1到8的整數和: 36\n",
            "1到9的整數和: 45\n",
            "1到10的整數和: 55\n",
            "1到11的整數和: 66\n",
            "1到12的整數和: 78\n",
            "1到13的整數和: 91\n",
            "1到14的整數和: 105\n",
            "1到15的整數和: 120\n",
            "1到16的整數和: 136\n",
            "1到17的整數和: 153\n",
            "1到18的整數和: 171\n"
          ]
        }
      ]
    },
    {
      "cell_type": "code",
      "source": [
        "for j in range(1,8):\n",
        "    print(j)\n",
        "    for i in range(1,2):\n",
        "        k = i*j\n",
        "        print(j,\"*\",i,\"=\",k)"
      ],
      "metadata": {
        "colab": {
          "base_uri": "https://localhost:8080/"
        },
        "id": "z13-fSz8gw_S",
        "outputId": "58242e8d-5143-4820-955a-470643dcd65e"
      },
      "execution_count": 40,
      "outputs": [
        {
          "output_type": "stream",
          "name": "stdout",
          "text": [
            "1\n",
            "1 * 1 = 1\n",
            "2\n",
            "2 * 1 = 2\n",
            "3\n",
            "3 * 1 = 3\n",
            "4\n",
            "4 * 1 = 4\n",
            "5\n",
            "5 * 1 = 5\n",
            "6\n",
            "6 * 1 = 6\n",
            "7\n",
            "7 * 1 = 7\n"
          ]
        }
      ]
    },
    {
      "cell_type": "code",
      "source": [
        "count = 0 \n",
        "for string in 'hello!':\n",
        "    count+=1\n",
        "    if string =='o':\n",
        "       break\n",
        "    print(string)\n",
        "print(\"迴圈結束\")\n",
        "print(\"迴圈執行了迴圈執行了 %d 次\" %count)\n",
        "\n",
        "count = 0 \n",
        "for string in '測試看看':\n",
        "    count+=1\n",
        "    if string =='看':\n",
        "       break\n",
        "    print(string)\n",
        "print(\"迴圈結束\")\n",
        "print(\"迴圈執行了迴圈執行了 %d 次\" %count)\n"
      ],
      "metadata": {
        "colab": {
          "base_uri": "https://localhost:8080/"
        },
        "id": "Cc5EccFLg9xX",
        "outputId": "7600e93c-0751-4ac7-9a4c-913772f5a9f1"
      },
      "execution_count": 41,
      "outputs": [
        {
          "output_type": "stream",
          "name": "stdout",
          "text": [
            "h\n",
            "e\n",
            "l\n",
            "l\n",
            "迴圈結束\n",
            "迴圈執行了迴圈執行了 5 次\n",
            "測\n",
            "試\n",
            "迴圈結束\n",
            "迴圈執行了迴圈執行了 3 次\n"
          ]
        }
      ]
    },
    {
      "cell_type": "code",
      "execution_count": 28,
      "metadata": {
        "id": "VSZiMm8c9AiT",
        "colab": {
          "base_uri": "https://localhost:8080/"
        },
        "outputId": "87478a0c-6549-4a0e-f52d-ba541e992b46"
      },
      "outputs": [
        {
          "output_type": "stream",
          "name": "stdout",
          "text": [
            "2*1= 2 2*2= 4 2*3= 6 2*4= 8 2*5=10 2*6=12 2*7=14 2*8=16 2*9=18 \n",
            "3*1= 3 3*2= 6 3*3= 9 3*4=12 3*5=15 3*6=18 3*7=21 3*8=24 3*9=27 \n",
            "4*1= 4 4*2= 8 4*3=12 4*4=16 4*5=20 4*6=24 4*7=28 4*8=32 4*9=36 \n",
            "5*1= 5 5*2=10 5*3=15 5*4=20 5*5=25 5*6=30 5*7=35 5*8=40 5*9=45 \n",
            "6*1= 6 6*2=12 6*3=18 6*4=24 6*5=30 6*6=36 6*7=42 6*8=48 6*9=54 \n",
            "7*1= 7 7*2=14 7*3=21 7*4=28 7*5=35 7*6=42 7*7=49 7*8=56 7*9=63 \n",
            "8*1= 8 8*2=16 8*3=24 8*4=32 8*5=40 8*6=48 8*7=56 8*8=64 8*9=72 \n",
            "9*1= 9 9*2=18 9*3=27 9*4=36 9*5=45 9*6=54 9*7=63 9*8=72 9*9=81 \n"
          ]
        }
      ],
      "source": [
        "for i in range(2,10):\n",
        "    for j in range(1,10):\n",
        "        product = i * j\n",
        "        print(\"%d*%d=%2d\" %(i, j, product), end=\" \")\n",
        "    print()"
      ]
    },
    {
      "cell_type": "code",
      "source": [
        "a = int(input(\"請輸入a的值:\"))\n",
        "b = int(input(\"請輸入b的值:\"))\n",
        "\n",
        "maxno = a * b\n",
        "for i in range(1, maxno+1):\n",
        "    if (i % a == 0 and i % b == 0):\n",
        "        break\n",
        "print(\"%d和%d的最小公倍數 = %d\" %(a,b,i))"
      ],
      "metadata": {
        "colab": {
          "base_uri": "https://localhost:8080/"
        },
        "id": "ZVdh3MXy9IsJ",
        "outputId": "71064adb-29d6-46df-8e16-4c9be77483fe"
      },
      "execution_count": 3,
      "outputs": [
        {
          "output_type": "stream",
          "name": "stdout",
          "text": [
            "請輸入a的值:4\n",
            "請輸入b的值:6\n",
            "4和6的最小公倍數 = 12\n"
          ]
        }
      ]
    },
    {
      "cell_type": "code",
      "source": [
        "n = int(input(\"請輸入一個正整數:\"))\n",
        "for i in range(1, n+1):\n",
        "    if i % 5 == 0:\n",
        "       continue\n",
        "    print(i, end=\" \")"
      ],
      "metadata": {
        "id": "RSgdVDbc9LMT",
        "colab": {
          "base_uri": "https://localhost:8080/"
        },
        "outputId": "a7e1dea5-bc88-4436-8678-d6f46dd5a460"
      },
      "execution_count": 4,
      "outputs": [
        {
          "output_type": "stream",
          "name": "stdout",
          "text": [
            "請輸入一個正整數:12\n",
            "1 2 3 4 6 7 8 9 11 12 "
          ]
        }
      ]
    },
    {
      "cell_type": "code",
      "source": [
        "total = i =1\n",
        "n = int(input(\"請輸入正整數n的值:\"))\n",
        "while i<=n:\n",
        "    total *= i\n",
        "    i+=1\n",
        "print(\"%d!=%d\" % (n, total))"
      ],
      "metadata": {
        "id": "2UZVMjlD9dDk",
        "outputId": "1f914dab-009e-45c9-eb11-79f801690880",
        "colab": {
          "base_uri": "https://localhost:8080/"
        }
      },
      "execution_count": 5,
      "outputs": [
        {
          "output_type": "stream",
          "name": "stdout",
          "text": [
            "請輸入正整數n的值:5\n",
            "5!=120\n"
          ]
        }
      ]
    },
    {
      "cell_type": "code",
      "source": [
        ""
      ],
      "metadata": {
        "id": "BrV93I-C9dzm"
      },
      "execution_count": null,
      "outputs": []
    }
  ]
}